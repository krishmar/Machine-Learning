{
 "cells": [
  {
   "cell_type": "code",
   "execution_count": 2,
   "metadata": {},
   "outputs": [],
   "source": [
    "#mandate lib\n",
    "import numpy as np\n",
    "import pandas as pd\n",
    "import matplotlib.pyplot as plt\n",
    "import seaborn as sns\n",
    "\n",
    "#use case\n",
    "from sklearn.model_selection import train_test_split, cross_val_score\n",
    "from sklearn.linear_model import LogisticRegression\n",
    "from sklearn import metrics\n",
    "from sklearn.metrics import confusion_matrix, accuracy_score\n",
    "from sklearn.tree import DecisionTreeClassifier\n",
    "from sklearn.ensemble import RandomForestClassifier"
   ]
  },
  {
   "cell_type": "code",
   "execution_count": 3,
   "metadata": {},
   "outputs": [
    {
     "data": {
      "text/html": [
       "<div>\n",
       "<style scoped>\n",
       "    .dataframe tbody tr th:only-of-type {\n",
       "        vertical-align: middle;\n",
       "    }\n",
       "\n",
       "    .dataframe tbody tr th {\n",
       "        vertical-align: top;\n",
       "    }\n",
       "\n",
       "    .dataframe thead th {\n",
       "        text-align: right;\n",
       "    }\n",
       "</style>\n",
       "<table border=\"1\" class=\"dataframe\">\n",
       "  <thead>\n",
       "    <tr style=\"text-align: right;\">\n",
       "      <th></th>\n",
       "      <th>ID</th>\n",
       "      <th>Name</th>\n",
       "      <th>Date</th>\n",
       "      <th>Time</th>\n",
       "      <th>Event</th>\n",
       "      <th>Status</th>\n",
       "      <th>Latitude</th>\n",
       "      <th>Longitude</th>\n",
       "      <th>Maximum Wind</th>\n",
       "      <th>Minimum Pressure</th>\n",
       "      <th>...</th>\n",
       "      <th>Low Wind SW</th>\n",
       "      <th>Low Wind NW</th>\n",
       "      <th>Moderate Wind NE</th>\n",
       "      <th>Moderate Wind SE</th>\n",
       "      <th>Moderate Wind SW</th>\n",
       "      <th>Moderate Wind NW</th>\n",
       "      <th>High Wind NE</th>\n",
       "      <th>High Wind SE</th>\n",
       "      <th>High Wind SW</th>\n",
       "      <th>High Wind NW</th>\n",
       "    </tr>\n",
       "  </thead>\n",
       "  <tbody>\n",
       "    <tr>\n",
       "      <td>0</td>\n",
       "      <td>EP011949</td>\n",
       "      <td>UNNAMED</td>\n",
       "      <td>19490611</td>\n",
       "      <td>0</td>\n",
       "      <td></td>\n",
       "      <td>TS</td>\n",
       "      <td>20.2N</td>\n",
       "      <td>106.3W</td>\n",
       "      <td>45</td>\n",
       "      <td>-999</td>\n",
       "      <td>...</td>\n",
       "      <td>-999</td>\n",
       "      <td>-999</td>\n",
       "      <td>-999</td>\n",
       "      <td>-999</td>\n",
       "      <td>-999</td>\n",
       "      <td>-999</td>\n",
       "      <td>-999</td>\n",
       "      <td>-999</td>\n",
       "      <td>-999</td>\n",
       "      <td>-999</td>\n",
       "    </tr>\n",
       "    <tr>\n",
       "      <td>1</td>\n",
       "      <td>EP011949</td>\n",
       "      <td>UNNAMED</td>\n",
       "      <td>19490611</td>\n",
       "      <td>600</td>\n",
       "      <td></td>\n",
       "      <td>TS</td>\n",
       "      <td>20.2N</td>\n",
       "      <td>106.4W</td>\n",
       "      <td>45</td>\n",
       "      <td>-999</td>\n",
       "      <td>...</td>\n",
       "      <td>-999</td>\n",
       "      <td>-999</td>\n",
       "      <td>-999</td>\n",
       "      <td>-999</td>\n",
       "      <td>-999</td>\n",
       "      <td>-999</td>\n",
       "      <td>-999</td>\n",
       "      <td>-999</td>\n",
       "      <td>-999</td>\n",
       "      <td>-999</td>\n",
       "    </tr>\n",
       "    <tr>\n",
       "      <td>2</td>\n",
       "      <td>EP011949</td>\n",
       "      <td>UNNAMED</td>\n",
       "      <td>19490611</td>\n",
       "      <td>1200</td>\n",
       "      <td></td>\n",
       "      <td>TS</td>\n",
       "      <td>20.2N</td>\n",
       "      <td>106.7W</td>\n",
       "      <td>45</td>\n",
       "      <td>-999</td>\n",
       "      <td>...</td>\n",
       "      <td>-999</td>\n",
       "      <td>-999</td>\n",
       "      <td>-999</td>\n",
       "      <td>-999</td>\n",
       "      <td>-999</td>\n",
       "      <td>-999</td>\n",
       "      <td>-999</td>\n",
       "      <td>-999</td>\n",
       "      <td>-999</td>\n",
       "      <td>-999</td>\n",
       "    </tr>\n",
       "    <tr>\n",
       "      <td>3</td>\n",
       "      <td>EP011949</td>\n",
       "      <td>UNNAMED</td>\n",
       "      <td>19490611</td>\n",
       "      <td>1800</td>\n",
       "      <td></td>\n",
       "      <td>TS</td>\n",
       "      <td>20.3N</td>\n",
       "      <td>107.7W</td>\n",
       "      <td>45</td>\n",
       "      <td>-999</td>\n",
       "      <td>...</td>\n",
       "      <td>-999</td>\n",
       "      <td>-999</td>\n",
       "      <td>-999</td>\n",
       "      <td>-999</td>\n",
       "      <td>-999</td>\n",
       "      <td>-999</td>\n",
       "      <td>-999</td>\n",
       "      <td>-999</td>\n",
       "      <td>-999</td>\n",
       "      <td>-999</td>\n",
       "    </tr>\n",
       "    <tr>\n",
       "      <td>4</td>\n",
       "      <td>EP011949</td>\n",
       "      <td>UNNAMED</td>\n",
       "      <td>19490612</td>\n",
       "      <td>0</td>\n",
       "      <td></td>\n",
       "      <td>TS</td>\n",
       "      <td>20.4N</td>\n",
       "      <td>108.6W</td>\n",
       "      <td>45</td>\n",
       "      <td>-999</td>\n",
       "      <td>...</td>\n",
       "      <td>-999</td>\n",
       "      <td>-999</td>\n",
       "      <td>-999</td>\n",
       "      <td>-999</td>\n",
       "      <td>-999</td>\n",
       "      <td>-999</td>\n",
       "      <td>-999</td>\n",
       "      <td>-999</td>\n",
       "      <td>-999</td>\n",
       "      <td>-999</td>\n",
       "    </tr>\n",
       "  </tbody>\n",
       "</table>\n",
       "<p>5 rows × 22 columns</p>\n",
       "</div>"
      ],
      "text/plain": [
       "         ID                 Name      Date  Time Event Status Latitude  \\\n",
       "0  EP011949              UNNAMED  19490611     0           TS    20.2N   \n",
       "1  EP011949              UNNAMED  19490611   600           TS    20.2N   \n",
       "2  EP011949              UNNAMED  19490611  1200           TS    20.2N   \n",
       "3  EP011949              UNNAMED  19490611  1800           TS    20.3N   \n",
       "4  EP011949              UNNAMED  19490612     0           TS    20.4N   \n",
       "\n",
       "  Longitude  Maximum Wind  Minimum Pressure  ...  Low Wind SW  Low Wind NW  \\\n",
       "0    106.3W            45              -999  ...         -999         -999   \n",
       "1    106.4W            45              -999  ...         -999         -999   \n",
       "2    106.7W            45              -999  ...         -999         -999   \n",
       "3    107.7W            45              -999  ...         -999         -999   \n",
       "4    108.6W            45              -999  ...         -999         -999   \n",
       "\n",
       "   Moderate Wind NE  Moderate Wind SE  Moderate Wind SW  Moderate Wind NW  \\\n",
       "0              -999              -999              -999              -999   \n",
       "1              -999              -999              -999              -999   \n",
       "2              -999              -999              -999              -999   \n",
       "3              -999              -999              -999              -999   \n",
       "4              -999              -999              -999              -999   \n",
       "\n",
       "   High Wind NE  High Wind SE  High Wind SW  High Wind NW  \n",
       "0          -999          -999          -999          -999  \n",
       "1          -999          -999          -999          -999  \n",
       "2          -999          -999          -999          -999  \n",
       "3          -999          -999          -999          -999  \n",
       "4          -999          -999          -999          -999  \n",
       "\n",
       "[5 rows x 22 columns]"
      ]
     },
     "execution_count": 3,
     "metadata": {},
     "output_type": "execute_result"
    }
   ],
   "source": [
    "data= pd.read_csv('pacific.csv')\n",
    "data.head()"
   ]
  },
  {
   "cell_type": "code",
   "execution_count": 4,
   "metadata": {},
   "outputs": [
    {
     "name": "stdout",
     "output_type": "stream",
     "text": [
      "<class 'pandas.core.frame.DataFrame'>\n",
      "RangeIndex: 26137 entries, 0 to 26136\n",
      "Data columns (total 22 columns):\n",
      "ID                  26137 non-null object\n",
      "Name                26137 non-null object\n",
      "Date                26137 non-null int64\n",
      "Time                26137 non-null int64\n",
      "Event               26137 non-null object\n",
      "Status              26137 non-null object\n",
      "Latitude            26137 non-null object\n",
      "Longitude           26137 non-null object\n",
      "Maximum Wind        26137 non-null int64\n",
      "Minimum Pressure    26137 non-null int64\n",
      "Low Wind NE         26137 non-null int64\n",
      "Low Wind SE         26137 non-null int64\n",
      "Low Wind SW         26137 non-null int64\n",
      "Low Wind NW         26137 non-null int64\n",
      "Moderate Wind NE    26137 non-null int64\n",
      "Moderate Wind SE    26137 non-null int64\n",
      "Moderate Wind SW    26137 non-null int64\n",
      "Moderate Wind NW    26137 non-null int64\n",
      "High Wind NE        26137 non-null int64\n",
      "High Wind SE        26137 non-null int64\n",
      "High Wind SW        26137 non-null int64\n",
      "High Wind NW        26137 non-null int64\n",
      "dtypes: int64(16), object(6)\n",
      "memory usage: 4.4+ MB\n"
     ]
    }
   ],
   "source": [
    "data.info()"
   ]
  },
  {
   "cell_type": "code",
   "execution_count": 5,
   "metadata": {},
   "outputs": [
    {
     "data": {
      "text/html": [
       "<div>\n",
       "<style scoped>\n",
       "    .dataframe tbody tr th:only-of-type {\n",
       "        vertical-align: middle;\n",
       "    }\n",
       "\n",
       "    .dataframe tbody tr th {\n",
       "        vertical-align: top;\n",
       "    }\n",
       "\n",
       "    .dataframe thead th {\n",
       "        text-align: right;\n",
       "    }\n",
       "</style>\n",
       "<table border=\"1\" class=\"dataframe\">\n",
       "  <thead>\n",
       "    <tr style=\"text-align: right;\">\n",
       "      <th></th>\n",
       "      <th>Date</th>\n",
       "      <th>Time</th>\n",
       "      <th>Maximum Wind</th>\n",
       "      <th>Minimum Pressure</th>\n",
       "      <th>Low Wind NE</th>\n",
       "      <th>Low Wind SE</th>\n",
       "      <th>Low Wind SW</th>\n",
       "      <th>Low Wind NW</th>\n",
       "      <th>Moderate Wind NE</th>\n",
       "      <th>Moderate Wind SE</th>\n",
       "      <th>Moderate Wind SW</th>\n",
       "      <th>Moderate Wind NW</th>\n",
       "      <th>High Wind NE</th>\n",
       "      <th>High Wind SE</th>\n",
       "      <th>High Wind SW</th>\n",
       "      <th>High Wind NW</th>\n",
       "    </tr>\n",
       "  </thead>\n",
       "  <tbody>\n",
       "    <tr>\n",
       "      <td>count</td>\n",
       "      <td>2.613700e+04</td>\n",
       "      <td>26137.000000</td>\n",
       "      <td>26137.000000</td>\n",
       "      <td>26137.000000</td>\n",
       "      <td>26137.000000</td>\n",
       "      <td>26137.000000</td>\n",
       "      <td>26137.000000</td>\n",
       "      <td>26137.000000</td>\n",
       "      <td>26137.000000</td>\n",
       "      <td>26137.000000</td>\n",
       "      <td>26137.000000</td>\n",
       "      <td>26137.000000</td>\n",
       "      <td>26137.000000</td>\n",
       "      <td>26137.000000</td>\n",
       "      <td>26137.000000</td>\n",
       "      <td>26137.000000</td>\n",
       "    </tr>\n",
       "    <tr>\n",
       "      <td>mean</td>\n",
       "      <td>1.988908e+07</td>\n",
       "      <td>896.050427</td>\n",
       "      <td>48.949344</td>\n",
       "      <td>18.176225</td>\n",
       "      <td>-745.064851</td>\n",
       "      <td>-746.312125</td>\n",
       "      <td>-748.290929</td>\n",
       "      <td>-746.320542</td>\n",
       "      <td>-751.604622</td>\n",
       "      <td>-752.094923</td>\n",
       "      <td>-752.701917</td>\n",
       "      <td>-752.102957</td>\n",
       "      <td>-753.584382</td>\n",
       "      <td>-753.787160</td>\n",
       "      <td>-754.046945</td>\n",
       "      <td>-753.774534</td>\n",
       "    </tr>\n",
       "    <tr>\n",
       "      <td>std</td>\n",
       "      <td>1.688455e+05</td>\n",
       "      <td>672.008065</td>\n",
       "      <td>25.334450</td>\n",
       "      <td>996.896388</td>\n",
       "      <td>447.193480</td>\n",
       "      <td>444.883379</td>\n",
       "      <td>441.232953</td>\n",
       "      <td>444.939111</td>\n",
       "      <td>435.198872</td>\n",
       "      <td>434.303796</td>\n",
       "      <td>433.202389</td>\n",
       "      <td>434.291049</td>\n",
       "      <td>431.605766</td>\n",
       "      <td>431.239618</td>\n",
       "      <td>430.773515</td>\n",
       "      <td>431.263235</td>\n",
       "    </tr>\n",
       "    <tr>\n",
       "      <td>min</td>\n",
       "      <td>1.949061e+07</td>\n",
       "      <td>0.000000</td>\n",
       "      <td>10.000000</td>\n",
       "      <td>-999.000000</td>\n",
       "      <td>-999.000000</td>\n",
       "      <td>-999.000000</td>\n",
       "      <td>-999.000000</td>\n",
       "      <td>-999.000000</td>\n",
       "      <td>-999.000000</td>\n",
       "      <td>-999.000000</td>\n",
       "      <td>-999.000000</td>\n",
       "      <td>-999.000000</td>\n",
       "      <td>-999.000000</td>\n",
       "      <td>-999.000000</td>\n",
       "      <td>-999.000000</td>\n",
       "      <td>-999.000000</td>\n",
       "    </tr>\n",
       "    <tr>\n",
       "      <td>25%</td>\n",
       "      <td>1.976081e+07</td>\n",
       "      <td>0.000000</td>\n",
       "      <td>30.000000</td>\n",
       "      <td>-999.000000</td>\n",
       "      <td>-999.000000</td>\n",
       "      <td>-999.000000</td>\n",
       "      <td>-999.000000</td>\n",
       "      <td>-999.000000</td>\n",
       "      <td>-999.000000</td>\n",
       "      <td>-999.000000</td>\n",
       "      <td>-999.000000</td>\n",
       "      <td>-999.000000</td>\n",
       "      <td>-999.000000</td>\n",
       "      <td>-999.000000</td>\n",
       "      <td>-999.000000</td>\n",
       "      <td>-999.000000</td>\n",
       "    </tr>\n",
       "    <tr>\n",
       "      <td>50%</td>\n",
       "      <td>1.990081e+07</td>\n",
       "      <td>600.000000</td>\n",
       "      <td>45.000000</td>\n",
       "      <td>941.000000</td>\n",
       "      <td>-999.000000</td>\n",
       "      <td>-999.000000</td>\n",
       "      <td>-999.000000</td>\n",
       "      <td>-999.000000</td>\n",
       "      <td>-999.000000</td>\n",
       "      <td>-999.000000</td>\n",
       "      <td>-999.000000</td>\n",
       "      <td>-999.000000</td>\n",
       "      <td>-999.000000</td>\n",
       "      <td>-999.000000</td>\n",
       "      <td>-999.000000</td>\n",
       "      <td>-999.000000</td>\n",
       "    </tr>\n",
       "    <tr>\n",
       "      <td>75%</td>\n",
       "      <td>2.003092e+07</td>\n",
       "      <td>1200.000000</td>\n",
       "      <td>65.000000</td>\n",
       "      <td>1002.000000</td>\n",
       "      <td>-999.000000</td>\n",
       "      <td>-999.000000</td>\n",
       "      <td>-999.000000</td>\n",
       "      <td>-999.000000</td>\n",
       "      <td>-999.000000</td>\n",
       "      <td>-999.000000</td>\n",
       "      <td>-999.000000</td>\n",
       "      <td>-999.000000</td>\n",
       "      <td>-999.000000</td>\n",
       "      <td>-999.000000</td>\n",
       "      <td>-999.000000</td>\n",
       "      <td>-999.000000</td>\n",
       "    </tr>\n",
       "    <tr>\n",
       "      <td>max</td>\n",
       "      <td>2.015113e+07</td>\n",
       "      <td>2300.000000</td>\n",
       "      <td>185.000000</td>\n",
       "      <td>1021.000000</td>\n",
       "      <td>300.000000</td>\n",
       "      <td>270.000000</td>\n",
       "      <td>180.000000</td>\n",
       "      <td>1180.000000</td>\n",
       "      <td>150.000000</td>\n",
       "      <td>150.000000</td>\n",
       "      <td>105.000000</td>\n",
       "      <td>150.000000</td>\n",
       "      <td>100.000000</td>\n",
       "      <td>75.000000</td>\n",
       "      <td>75.000000</td>\n",
       "      <td>100.000000</td>\n",
       "    </tr>\n",
       "  </tbody>\n",
       "</table>\n",
       "</div>"
      ],
      "text/plain": [
       "               Date          Time  Maximum Wind  Minimum Pressure  \\\n",
       "count  2.613700e+04  26137.000000  26137.000000      26137.000000   \n",
       "mean   1.988908e+07    896.050427     48.949344         18.176225   \n",
       "std    1.688455e+05    672.008065     25.334450        996.896388   \n",
       "min    1.949061e+07      0.000000     10.000000       -999.000000   \n",
       "25%    1.976081e+07      0.000000     30.000000       -999.000000   \n",
       "50%    1.990081e+07    600.000000     45.000000        941.000000   \n",
       "75%    2.003092e+07   1200.000000     65.000000       1002.000000   \n",
       "max    2.015113e+07   2300.000000    185.000000       1021.000000   \n",
       "\n",
       "        Low Wind NE   Low Wind SE   Low Wind SW   Low Wind NW  \\\n",
       "count  26137.000000  26137.000000  26137.000000  26137.000000   \n",
       "mean    -745.064851   -746.312125   -748.290929   -746.320542   \n",
       "std      447.193480    444.883379    441.232953    444.939111   \n",
       "min     -999.000000   -999.000000   -999.000000   -999.000000   \n",
       "25%     -999.000000   -999.000000   -999.000000   -999.000000   \n",
       "50%     -999.000000   -999.000000   -999.000000   -999.000000   \n",
       "75%     -999.000000   -999.000000   -999.000000   -999.000000   \n",
       "max      300.000000    270.000000    180.000000   1180.000000   \n",
       "\n",
       "       Moderate Wind NE  Moderate Wind SE  Moderate Wind SW  Moderate Wind NW  \\\n",
       "count      26137.000000      26137.000000      26137.000000      26137.000000   \n",
       "mean        -751.604622       -752.094923       -752.701917       -752.102957   \n",
       "std          435.198872        434.303796        433.202389        434.291049   \n",
       "min         -999.000000       -999.000000       -999.000000       -999.000000   \n",
       "25%         -999.000000       -999.000000       -999.000000       -999.000000   \n",
       "50%         -999.000000       -999.000000       -999.000000       -999.000000   \n",
       "75%         -999.000000       -999.000000       -999.000000       -999.000000   \n",
       "max          150.000000        150.000000        105.000000        150.000000   \n",
       "\n",
       "       High Wind NE  High Wind SE  High Wind SW  High Wind NW  \n",
       "count  26137.000000  26137.000000  26137.000000  26137.000000  \n",
       "mean    -753.584382   -753.787160   -754.046945   -753.774534  \n",
       "std      431.605766    431.239618    430.773515    431.263235  \n",
       "min     -999.000000   -999.000000   -999.000000   -999.000000  \n",
       "25%     -999.000000   -999.000000   -999.000000   -999.000000  \n",
       "50%     -999.000000   -999.000000   -999.000000   -999.000000  \n",
       "75%     -999.000000   -999.000000   -999.000000   -999.000000  \n",
       "max      100.000000     75.000000     75.000000    100.000000  "
      ]
     },
     "execution_count": 5,
     "metadata": {},
     "output_type": "execute_result"
    }
   ],
   "source": [
    "data.describe()"
   ]
  },
  {
   "cell_type": "code",
   "execution_count": 7,
   "metadata": {},
   "outputs": [
    {
     "data": {
      "text/plain": [
       " TS     10076\n",
       " TD      6965\n",
       " HU      6765\n",
       " LO      1828\n",
       " DB       217\n",
       " ET       152\n",
       " EX       110\n",
       " SS         7\n",
       " PT         6\n",
       " ST         6\n",
       " SD         4\n",
       " HU         1\n",
       "Name: Status, dtype: int64"
      ]
     },
     "execution_count": 7,
     "metadata": {},
     "output_type": "execute_result"
    }
   ],
   "source": [
    "data['Status'].value_counts()"
   ]
  },
  {
   "cell_type": "code",
   "execution_count": 8,
   "metadata": {},
   "outputs": [
    {
     "data": {
      "text/plain": [
       "<matplotlib.axes._subplots.AxesSubplot at 0x1ed29a7c3c8>"
      ]
     },
     "execution_count": 8,
     "metadata": {},
     "output_type": "execute_result"
    },
    {
     "data": {
      "image/png": "[encoded data removed]",
      "text/plain": [
       "<Figure size 432x288 with 1 Axes>"
      ]
     },
     "metadata": {
      "needs_background": "light"
     },
     "output_type": "display_data"
    }
   ],
   "source": [
    "sns.countplot(data.Status)"
   ]
  },
  {
   "cell_type": "code",
   "execution_count": 10,
   "metadata": {},
   "outputs": [
    {
     "data": {
      "text/plain": [
       "pandas.core.series.Series"
      ]
     },
     "execution_count": 10,
     "metadata": {},
     "output_type": "execute_result"
    }
   ],
   "source": [
    "data.Status = pd.Categorical(data.Status)\n",
    "type(data.Status)"
   ]
  },
  {
   "cell_type": "code",
   "execution_count": 11,
   "metadata": {},
   "outputs": [
    {
     "data": {
      "text/plain": [
       "11    10076\n",
       "10     6965\n",
       "3      6765\n",
       "5      1828\n",
       "0       217\n",
       "1       152\n",
       "2       110\n",
       "8         7\n",
       "9         6\n",
       "6         6\n",
       "7         4\n",
       "4         1\n",
       "Name: Status, dtype: int64"
      ]
     },
     "execution_count": 11,
     "metadata": {},
     "output_type": "execute_result"
    }
   ],
   "source": [
    "data.Status = data.Status.cat.codes\n",
    "data.Status.value_counts()"
   ]
  },
  {
   "cell_type": "code",
   "execution_count": 12,
   "metadata": {},
   "outputs": [
    {
     "data": {
      "text/plain": [
       "Index(['ID', 'Name', 'Date', 'Time', 'Event', 'Status', 'Latitude',\n",
       "       'Longitude', 'Maximum Wind', 'Minimum Pressure', 'Low Wind NE',\n",
       "       'Low Wind SE', 'Low Wind SW', 'Low Wind NW', 'Moderate Wind NE',\n",
       "       'Moderate Wind SE', 'Moderate Wind SW', 'Moderate Wind NW',\n",
       "       'High Wind NE', 'High Wind SE', 'High Wind SW', 'High Wind NW'],\n",
       "      dtype='object')"
      ]
     },
     "execution_count": 12,
     "metadata": {},
     "output_type": "execute_result"
    }
   ],
   "source": [
    "data.columns"
   ]
  },
  {
   "cell_type": "code",
   "execution_count": 15,
   "metadata": {},
   "outputs": [
    {
     "data": {
      "text/plain": [
       "(26137, 22)"
      ]
     },
     "execution_count": 15,
     "metadata": {},
     "output_type": "execute_result"
    }
   ],
   "source": [
    "\n",
    "pred_columns = data[:]\n",
    "pred_columns.shape"
   ]
  },
  {
   "cell_type": "code",
   "execution_count": 22,
   "metadata": {},
   "outputs": [
    {
     "data": {
      "text/plain": [
       "Index(['Maximum Wind', 'Minimum Pressure', 'Low Wind NE', 'Low Wind SE',\n",
       "       'Low Wind SW', 'Low Wind NW', 'Moderate Wind NE', 'Moderate Wind SE',\n",
       "       'Moderate Wind SW', 'Moderate Wind NW', 'High Wind NE', 'High Wind SE',\n",
       "       'High Wind SW', 'High Wind NW'],\n",
       "      dtype='object')"
      ]
     },
     "execution_count": 22,
     "metadata": {},
     "output_type": "execute_result"
    }
   ],
   "source": [
    "pred_columns.drop(columns = ['Event','ID','Latitude','Longitude','Name','Date','Time'], axis=1, inplace=True)\n",
    "pred_columns.columns"
   ]
  },
  {
   "cell_type": "code",
   "execution_count": 23,
   "metadata": {},
   "outputs": [],
   "source": [
    "prediction_var = pred_columns.columns"
   ]
  },
  {
   "cell_type": "code",
   "execution_count": 24,
   "metadata": {},
   "outputs": [
    {
     "name": "stdout",
     "output_type": "stream",
     "text": [
      "(19602, 22) (6535, 22)\n"
     ]
    }
   ],
   "source": [
    "train, test = train_test_split(data, test_size=0.25)\n",
    "print(train.shape, test.shape)"
   ]
  },
  {
   "cell_type": "code",
   "execution_count": 27,
   "metadata": {},
   "outputs": [
    {
     "name": "stdout",
     "output_type": "stream",
     "text": [
      "(6535, 14) (19602, 14)\n"
     ]
    }
   ],
   "source": [
    "train_x = train[prediction_var]\n",
    "train_y = train['Status']\n",
    "test_x = test[prediction_var]\n",
    "test_y = test['Status']\n",
    "print(test_x.shape, train_x.shape)"
   ]
  },
  {
   "cell_type": "code",
   "execution_count": 43,
   "metadata": {},
   "outputs": [
    {
     "name": "stderr",
     "output_type": "stream",
     "text": [
      "C:\\Users\\Harsharaj.raviraj\\AppData\\Local\\Continuum\\anaconda3\\lib\\site-packages\\sklearn\\ensemble\\forest.py:245: FutureWarning: The default value of n_estimators will change from 10 in version 0.20 to 100 in 0.22.\n",
      "  \"10 in version 0.20 to 100 in 0.22.\", FutureWarning)\n"
     ]
    },
    {
     "data": {
      "text/plain": [
       "RandomForestClassifier(bootstrap=True, class_weight=None, criterion='gini',\n",
       "                       max_depth=None, max_features='auto', max_leaf_nodes=None,\n",
       "                       min_impurity_decrease=0.0, min_impurity_split=None,\n",
       "                       min_samples_leaf=1, min_samples_split=2,\n",
       "                       min_weight_fraction_leaf=0.0, n_estimators=10,\n",
       "                       n_jobs=None, oob_score=False, random_state=None,\n",
       "                       verbose=0, warm_start=False)"
      ]
     },
     "execution_count": 43,
     "metadata": {},
     "output_type": "execute_result"
    }
   ],
   "source": [
    "rf = RandomForestClassifier()\n",
    "rf.fit(train_x, train_y)"
   ]
  },
  {
   "cell_type": "code",
   "execution_count": 45,
   "metadata": {},
   "outputs": [
    {
     "name": "stdout",
     "output_type": "stream",
     "text": [
      "Acc for test 0.9554705432287681\n",
      "Acc for train 0.9602591572288542\n",
      "Testing Confusion matrix\n",
      "    0  1  2     3    4  5  6  7     8     9\n",
      "0  1  0  0     0   54  0  0  0     5     0\n",
      "1  0  0  0     3    0  0  0  0    31     5\n",
      "2  0  0  2     4    1  0  0  0    12     8\n",
      "3  0  0  0  1731    0  0  0  0     0     0\n",
      "4  3  0  0     0  395  0  0  0    72     9\n",
      "5  0  0  0     0    0  1  0  0     1     0\n",
      "6  0  0  0     0    0  0  0  0     2     0\n",
      "7  0  0  0     0    0  0  0  2     0     0\n",
      "8  0  0  1     0   77  0  0  0  1670     1\n",
      "9  0  0  0     0    1  1  0  0     0  2442\n"
     ]
    }
   ],
   "source": [
    "test_pred = rf.predict(test_x)\n",
    "train_pred = rf.predict(train_x)\n",
    "\n",
    "print(\"Acc for test\", metrics.accuracy_score(test_y,test_pred))\n",
    "print(\"Acc for train\",metrics.accuracy_score(train_y,train_pred))\n",
    "arr=confusion_matrix(test_y, test_pred)\n",
    "df=pd.DataFrame(arr)\n",
    "print(\"Testing Confusion matrix\\n\",df)"
   ]
  },
  {
   "cell_type": "code",
   "execution_count": 51,
   "metadata": {},
   "outputs": [
    {
     "name": "stdout",
     "output_type": "stream",
     "text": [
      "Training Accuracy of DT is 0.9604632180389756\n",
      "Testing Accuracy of DT is 0.9547054322876817\n",
      "Testing Confusion matrix\n",
      "     0  1  2     3  4    5  6  7  8     9    10\n",
      "0   0  0  0     0  0   55  0  0  0     5     0\n",
      "1   0  0  0     3  0    0  0  0  0    31     5\n",
      "2   0  0  2     4  0    2  0  0  0    12     7\n",
      "3   0  0  0  1730  1    0  0  0  0     0     0\n",
      "4   0  0  0     0  0    0  0  0  0     0     0\n",
      "5   2  0  0     0  0  398  0  0  0    72     7\n",
      "6   0  0  0     0  0    0  1  0  0     1     0\n",
      "7   0  0  0     0  0    0  0  0  0     2     0\n",
      "8   0  0  0     0  0    0  0  0  2     0     0\n",
      "9   0  0  0     0  0   77  0  0  0  1671     1\n",
      "10  0  0  0     0  0    7  1  0  1     0  2435\n"
     ]
    }
   ],
   "source": [
    "from sklearn.tree import DecisionTreeClassifier\n",
    "model = DecisionTreeClassifier()\n",
    "model.fit(train_x,train_y)# now fit our model for traiing data\n",
    "test_pred=model.predict(test_x)# predict for the test data\n",
    "train_pred=model.predict(train_x)# predict for the test data\n",
    "print('Training Accuracy of DT is {}'.format(metrics.accuracy_score(train_pred,train_y))) # to check the accuracy\n",
    "print('Testing Accuracy of DT is {}'.format(metrics.accuracy_score(test_pred,test_y))) # to check the accuracy\n",
    "\n",
    "arr=confusion_matrix(test_y, test_pred)\n",
    "df=pd.DataFrame(arr)\n",
    "print(\"Testing Confusion matrix\\n\",df)"
   ]
  },
  {
   "cell_type": "code",
   "execution_count": null,
   "metadata": {},
   "outputs": [],
   "source": []
  }
 ],
 "metadata": {
  "kernelspec": {
   "display_name": "Python 3",
   "language": "python",
   "name": "python3"
  },
  "language_info": {
   "codemirror_mode": {
    "name": "ipython",
    "version": 3
   },
   "file_extension": ".py",
   "mimetype": "text/x-python",
   "name": "python",
   "nbconvert_exporter": "python",
   "pygments_lexer": "ipython3",
   "version": "3.7.7"
  }
 },
 "nbformat": 4,
 "nbformat_minor": 2
}
