{
 "cells": [
  {
   "cell_type": "markdown",
   "metadata": {},
   "source": [
    "# Efficient path study with Re-inforcement learning"
   ]
  },
  {
   "cell_type": "code",
   "execution_count": 1,
   "metadata": {},
   "outputs": [],
   "source": [
    "import numpy as np"
   ]
  },
  {
   "cell_type": "markdown",
   "metadata": {},
   "source": [
    "#### Creating list of all possible paths"
   ]
  },
  {
   "cell_type": "code",
   "execution_count": 3,
   "metadata": {},
   "outputs": [],
   "source": [
    "path_list = [(0,1), (1,2), (2,3), \n",
    "               (0,4), (2,6), \n",
    "               (4,8), (6,10),\n",
    "              (8,9), (9,10),\n",
    "              (9,13), (10,14),\n",
    "              (13,14), (14,15)]"
   ]
  },
  {
   "cell_type": "markdown",
   "metadata": {},
   "source": [
    "#### Creating R-Matrix from the path list"
   ]
  },
  {
   "cell_type": "code",
   "execution_count": 5,
   "metadata": {
    "scrolled": true
   },
   "outputs": [
    {
     "data": {
      "text/plain": [
       "matrix([[ -1.,   0.,  -1.,  -1.,   0.,  -1.,  -1.,  -1.,  -1.,  -1.,\n",
       "          -1.,  -1.,  -1.,  -1.,  -1.,  -1.],\n",
       "        [  0.,  -1.,   0.,  -1.,  -1.,  -1.,  -1.,  -1.,  -1.,  -1.,\n",
       "          -1.,  -1.,  -1.,  -1.,  -1.,  -1.],\n",
       "        [ -1.,   0.,  -1.,   0.,  -1.,  -1.,   0.,  -1.,  -1.,  -1.,\n",
       "          -1.,  -1.,  -1.,  -1.,  -1.,  -1.],\n",
       "        [ -1.,  -1.,   0.,  -1.,  -1.,  -1.,  -1.,  -1.,  -1.,  -1.,\n",
       "          -1.,  -1.,  -1.,  -1.,  -1.,  -1.],\n",
       "        [  0.,  -1.,  -1.,  -1.,  -1.,  -1.,  -1.,  -1.,   0.,  -1.,\n",
       "          -1.,  -1.,  -1.,  -1.,  -1.,  -1.],\n",
       "        [ -1.,  -1.,  -1.,  -1.,  -1.,  -1.,  -1.,  -1.,  -1.,  -1.,\n",
       "          -1.,  -1.,  -1.,  -1.,  -1.,  -1.],\n",
       "        [ -1.,  -1.,   0.,  -1.,  -1.,  -1.,  -1.,  -1.,  -1.,  -1.,\n",
       "           0.,  -1.,  -1.,  -1.,  -1.,  -1.],\n",
       "        [ -1.,  -1.,  -1.,  -1.,  -1.,  -1.,  -1.,  -1.,  -1.,  -1.,\n",
       "          -1.,  -1.,  -1.,  -1.,  -1.,  -1.],\n",
       "        [ -1.,  -1.,  -1.,  -1.,   0.,  -1.,  -1.,  -1.,  -1.,   0.,\n",
       "          -1.,  -1.,  -1.,  -1.,  -1.,  -1.],\n",
       "        [ -1.,  -1.,  -1.,  -1.,  -1.,  -1.,  -1.,  -1.,   0.,  -1.,\n",
       "           0.,  -1.,  -1.,   0.,  -1.,  -1.],\n",
       "        [ -1.,  -1.,  -1.,  -1.,  -1.,  -1.,   0.,  -1.,  -1.,   0.,\n",
       "          -1.,  -1.,  -1.,  -1.,   0.,  -1.],\n",
       "        [ -1.,  -1.,  -1.,  -1.,  -1.,  -1.,  -1.,  -1.,  -1.,  -1.,\n",
       "          -1.,  -1.,  -1.,  -1.,  -1.,  -1.],\n",
       "        [ -1.,  -1.,  -1.,  -1.,  -1.,  -1.,  -1.,  -1.,  -1.,  -1.,\n",
       "          -1.,  -1.,  -1.,  -1.,  -1.,  -1.],\n",
       "        [ -1.,  -1.,  -1.,  -1.,  -1.,  -1.,  -1.,  -1.,  -1.,   0.,\n",
       "          -1.,  -1.,  -1.,  -1.,   0.,  -1.],\n",
       "        [ -1.,  -1.,  -1.,  -1.,  -1.,  -1.,  -1.,  -1.,  -1.,  -1.,\n",
       "           0.,  -1.,  -1.,   0.,  -1., 100.],\n",
       "        [ -1.,  -1.,  -1.,  -1.,  -1.,  -1.,  -1.,  -1.,  -1.,  -1.,\n",
       "          -1.,  -1.,  -1.,  -1.,   0., 100.]])"
      ]
     },
     "execution_count": 5,
     "metadata": {},
     "output_type": "execute_result"
    }
   ],
   "source": [
    "goal = 15\n",
    "MATRIX_SIZE = 16\n",
    "R = np.matrix(np.ones(shape=(MATRIX_SIZE, MATRIX_SIZE)))\n",
    "R *= -1          \n",
    "                      \n",
    "for point in path_list:\n",
    "\t# print(point)\n",
    "\tif point[1] == goal:\n",
    "\t\tR[point] = 100\n",
    "\telse:\n",
    "\t\tR[point] = 0\n",
    "\t\t\n",
    "\tif point[0] == goal:\n",
    "\t\tR[point[::-1]] = 100\n",
    "\telse:\n",
    "\t\tR[point[::-1]] = 0\n",
    "\t\t\n",
    "R[goal, goal] = 100\n",
    "          \n",
    "R          "
   ]
  },
  {
   "cell_type": "markdown",
   "metadata": {},
   "source": [
    "#### Creating a Q Matrix"
   ]
  },
  {
   "cell_type": "code",
   "execution_count": 7,
   "metadata": {},
   "outputs": [
    {
     "name": "stdout",
     "output_type": "stream",
     "text": [
      "[[  0.    163.84    0.      0.    163.84    0.      0.      0.      0.\n",
      "    0.      0.      0.      0.      0.      0.      0.   ]\n",
      " [131.072   0.    204.8     0.      0.      0.      0.      0.      0.\n",
      "    0.      0.      0.      0.      0.      0.      0.   ]\n",
      " [  0.    163.84    0.    163.84    0.      0.    256.      0.      0.\n",
      "    0.      0.      0.      0.      0.      0.      0.   ]\n",
      " [  0.      0.    204.8     0.      0.      0.      0.      0.      0.\n",
      "    0.      0.      0.      0.      0.      0.      0.   ]\n",
      " [131.072   0.      0.      0.      0.      0.      0.      0.    204.8\n",
      "    0.      0.      0.      0.      0.      0.      0.   ]\n",
      " [  0.      0.      0.      0.      0.      0.      0.      0.      0.\n",
      "    0.      0.      0.      0.      0.      0.      0.   ]\n",
      " [  0.      0.    204.8     0.      0.      0.      0.      0.      0.\n",
      "    0.    320.      0.      0.      0.      0.      0.   ]\n",
      " [  0.      0.      0.      0.      0.      0.      0.      0.      0.\n",
      "    0.      0.      0.      0.      0.      0.      0.   ]\n",
      " [  0.      0.      0.      0.    163.84    0.      0.      0.      0.\n",
      "  256.      0.      0.      0.      0.      0.      0.   ]\n",
      " [  0.      0.      0.      0.      0.      0.      0.      0.    204.8\n",
      "    0.    320.      0.      0.    320.      0.      0.   ]\n",
      " [  0.      0.      0.      0.      0.      0.    256.      0.      0.\n",
      "  256.      0.      0.      0.      0.    400.      0.   ]\n",
      " [  0.      0.      0.      0.      0.      0.      0.      0.      0.\n",
      "    0.      0.      0.      0.      0.      0.      0.   ]\n",
      " [  0.      0.      0.      0.      0.      0.      0.      0.      0.\n",
      "    0.      0.      0.      0.      0.      0.      0.   ]\n",
      " [  0.      0.      0.      0.      0.      0.      0.      0.      0.\n",
      "  256.      0.      0.      0.      0.    400.      0.   ]\n",
      " [  0.      0.      0.      0.      0.      0.      0.      0.      0.\n",
      "    0.    320.      0.      0.    320.      0.    500.   ]\n",
      " [  0.      0.      0.      0.      0.      0.      0.      0.      0.\n",
      "    0.      0.      0.      0.      0.    400.    500.   ]]\n"
     ]
    }
   ],
   "source": [
    "Q = np.matrix(np.zeros([MATRIX_SIZE,MATRIX_SIZE]))\n",
    "\n",
    "# Gamma (learning parameter).\n",
    "gamma = 0.8\n",
    "\n",
    "# Initial state (Usually to be choosen at random)\n",
    "initial_state = 0\n",
    "\n",
    "\n",
    "# This function returns all available actions in the state given as an argument\n",
    "def available_actions(state):\n",
    "\tcurrent_state_row = R[state,]\n",
    "\tav_act = np.where(current_state_row >= 0)[1]\n",
    "\treturn av_act\n",
    "\t\n",
    "# Get avaialble actions in the current state\n",
    "available_act = available_actions(initial_state)\n",
    "\n",
    "# This function chooses at random which action to be with in the range \n",
    "# of all the available actions\n",
    "def sample_next_action(available_actions_range):\n",
    "\tnext_action = int(np.random.choice(available_act, 1))\n",
    "\treturn next_action\n",
    "\t\n",
    "action = sample_next_action(available_act)\n",
    "\n",
    "#This function updates the Q matrix according to the path selected \n",
    "#and the Q learning algorithm\n",
    "\n",
    "def update(current_state, action, gamma):\n",
    "\tmax_index = np.where(Q[action,] == np.max(Q[action,]))[1]\n",
    "\tif max_index.shape[0] > 1:\n",
    "\t\tmax_index = int(np.random.choice(max_index, size=1))\n",
    "\telse:\n",
    "\t\tmax_index = int(max_index)\n",
    "\tmax_value = Q[action, max_index]\n",
    "\tQ[current_state, action] = R[current_state, action] + gamma * max_value\n",
    "\n",
    "\n",
    "av_index = [0,1,2,3,4,6,8,9,10,13,14,15]\n",
    "    \n",
    "for i in range(10000):\n",
    "\tcurrent_state = int(np.random.choice(av_index, size=1))\n",
    "\tavailable_act = available_actions(current_state)\n",
    "\taction = sample_next_action(available_act)\n",
    "\tupdate(current_state, action, gamma)\n",
    "    \n",
    "print(Q)\n"
   ]
  },
  {
   "cell_type": "code",
   "execution_count": 10,
   "metadata": {},
   "outputs": [
    {
     "name": "stdout",
     "output_type": "stream",
     "text": [
      "[0, 4, 8, 9, 10, 14, 15]\n"
     ]
    }
   ],
   "source": [
    "current_state = 0\n",
    "steps = [current_state]\n",
    "\n",
    "while current_state !=goal:\n",
    "    next_step_index = np.where(Q[current_state,] == np.max(Q[current_state,]))[1]\n",
    "    if next_step_index.shape[0] > 1:\n",
    "        next_step_index = int(np.random.choice(next_step_index, size=1))\n",
    "    else:\n",
    "        next_step_index = int(next_step_index)\n",
    "    steps.append(next_step_index)\n",
    "    current_state = next_step_index\n",
    "    \n",
    "print(steps)    "
   ]
  }
 ],
 "metadata": {
  "kernelspec": {
   "display_name": "Python 3",
   "language": "python",
   "name": "python3"
  },
  "language_info": {
   "codemirror_mode": {
    "name": "ipython",
    "version": 3
   },
   "file_extension": ".py",
   "mimetype": "text/x-python",
   "name": "python",
   "nbconvert_exporter": "python",
   "pygments_lexer": "ipython3",
   "version": "3.7.7"
  }
 },
 "nbformat": 4,
 "nbformat_minor": 4
}
